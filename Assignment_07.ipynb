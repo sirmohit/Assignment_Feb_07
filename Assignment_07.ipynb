{
 "cells": [
  {
   "cell_type": "markdown",
   "id": "e59117dd",
   "metadata": {},
   "source": [
    "####Q1. You are writing code for a company. The requirement of the company is that you create a python\n",
    "    function that will check whether the password entered by the user is correct or not. The function should\n",
    "    take the password as input and return the string “Valid Password” if the entered password follows the\n",
    "    below-given password guidelines else it should return “Invalid Password”.\n",
    "\n",
    "Note: 1. The Password should contain at least two uppercase letters and at least two lowercase letters.\n",
    "      2. The Password should contain at least a number and three special characters.\n",
    "      3. The length of the password should be 10 characters long."
   ]
  },
  {
   "cell_type": "code",
   "execution_count": 1,
   "id": "7fa652cd",
   "metadata": {},
   "outputs": [
    {
     "name": "stdout",
     "output_type": "stream",
     "text": [
      "Invalid Password\n",
      "Invalid Password\n",
      "Invalid Password\n",
      "Invalid Password\n"
     ]
    }
   ],
   "source": [
    "import string\n",
    "\n",
    "def check_password_validity(password):\n",
    "    # Initialize counters for uppercase, lowercase, numbers, and special characters\n",
    "    uppercase_cnt = 0\n",
    "    lowercase_cnt = 0\n",
    "    number_cnt = 0\n",
    "    special_ch_cnt = 0\n",
    "    \n",
    "    # Define special characters\n",
    "    special_characters = string.punctuation  # This includes !\"#$%&'()*+,-./:;<=>?@[\\]^_`{|}~\n",
    "    \n",
    "    # Iterate through each character in the password\n",
    "    for ch in password:\n",
    "        if ch.isupper():\n",
    "            uppercase_cnt += 1\n",
    "        elif ch.islower():\n",
    "            lowercase_cnt += 1\n",
    "        elif ch.isdigit():\n",
    "            number_cnt += 1\n",
    "        elif ch in special_characters:\n",
    "            special_ch_cnt += 1\n",
    "    \n",
    "    # Check password conditions\n",
    "    if (len(password) == 10 and uppercase_cnt >= 2 and lowercase_cnt >= 2 and number_cnt >= 1 and special_ch_cnt >= 3):\n",
    "        return \"Valid Password\"\n",
    "    else:\n",
    "        return \"Invalid Password\"\n",
    "\n",
    "# Test the function with different passwords\n",
    "password1 = \"Abcdefghi1!!!\"\n",
    "password2 = \"ABcd12@!efg\"\n",
    "password3 = \"abcdef!@#$1234\"\n",
    "password4 = \"ABcd!efghi\"\n",
    "\n",
    "print(check_password_validity(password1))  \n",
    "print(check_password_validity(password2))  \n",
    "print(check_password_validity(password3))\n",
    "print(check_password_validity(password4)) \n"
   ]
  },
  {
   "cell_type": "markdown",
   "id": "5ef9007b",
   "metadata": {},
   "source": [
    "Q2. Solve the below-given questions using at least one of the following:\n",
    "1. Lambda function\n",
    "2. Filter function\n",
    "3. Map function\n",
    "4. List Comprehension\n",
    " a) Check if the string starts with a particular letter.\n",
    " b) Check if the string is numeric.\n",
    " c) Sort a list of tuples having fruit names and their quantity. [(\"mango\",99),(\"orange\",80), (\"grapes\", 1000)]\n",
    " d) Find the squares of numbers from 1 to 10.\n",
    " e) Find the cube root of numbers from 1 to 10.\n",
    " f) Check if a given number is even.\n",
    " g) Filter odd numbers from the given list.\n",
    "    [1,2,3,4,5,6,7,8,9,10]\n",
    " h)Sort a list of integers into positive and negative integers lists.\n",
    "    [1,2,3,4,5,6,-1,-2,-3,-4,-5,0]"
   ]
  },
  {
   "cell_type": "code",
   "execution_count": 2,
   "id": "7190b1d2",
   "metadata": {},
   "outputs": [
    {
     "name": "stdout",
     "output_type": "stream",
     "text": [
      "The string starts with the letter.\n"
     ]
    }
   ],
   "source": [
    "# a) Check if the string starts with a particular letter.\n",
    "# By using lamda function with filter()\n",
    "input_string = \"Python\"\n",
    "start_letter = \"P\"\n",
    "\n",
    "result = list(filter(lambda x: x.startswith(start_letter), [input_string]))\n",
    "\n",
    "if result:\n",
    "    print(\"The string starts with the letter.\")\n",
    "else:\n",
    "    print(\"The string does not start with the letter.\")\n"
   ]
  },
  {
   "cell_type": "code",
   "execution_count": 3,
   "id": "c3e09277",
   "metadata": {},
   "outputs": [
    {
     "name": "stdout",
     "output_type": "stream",
     "text": [
      "The string is numeric.\n"
     ]
    }
   ],
   "source": [
    "#b) Check if the string is numeric.\n",
    "#WE can use a list comprehension to check if all characters in the string are digits.\n",
    "input_string = \"741\"\n",
    "\n",
    "result = all(char.isdigit() for char in input_string)\n",
    "\n",
    "if result:\n",
    "    print(\"The string is numeric.\")\n",
    "else:\n",
    "    print(\"The string is not numeric.\")\n"
   ]
  },
  {
   "cell_type": "code",
   "execution_count": 4,
   "id": "6c06cbd1",
   "metadata": {},
   "outputs": [
    {
     "name": "stdout",
     "output_type": "stream",
     "text": [
      "Sorted list based on quantity in ascending order: [('orange', 80), ('mango', 99), ('grapes', 1000)]\n"
     ]
    }
   ],
   "source": [
    "# c) Sort a list of tuples having fruit names and their quantity. [(\"mango\",99),(\"orange\",80), (\"grapes\", 1000)]\n",
    "#1. Using sorted() function with Lambda Function:\n",
    "# List of tuples containing fruit names and their quantities\n",
    "fruits = [(\"mango\", 99), (\"orange\", 80), (\"grapes\", 1000)]\n",
    "\n",
    "# Sort the list of tuples based on quantity in ascending order\n",
    "sorted_fruits = sorted(fruits, key=lambda x: x[1])\n",
    "\n",
    "print(\"Sorted list based on quantity in ascending order:\", sorted_fruits)\n"
   ]
  },
  {
   "cell_type": "code",
   "execution_count": 5,
   "id": "da122f58",
   "metadata": {},
   "outputs": [
    {
     "name": "stdout",
     "output_type": "stream",
     "text": [
      "[1, 4, 9, 16, 25, 36, 49, 64, 81, 100]\n"
     ]
    }
   ],
   "source": [
    "#d) Find the squares of numbers from 1 to 10.\n",
    "# Using list comprehension to find squares of numbers from 1 to 10\n",
    "squares = [x ** 2 for x in range(1, 11)]\n",
    "\n",
    "# Print the list of squares\n",
    "print( squares)\n"
   ]
  },
  {
   "cell_type": "code",
   "execution_count": 6,
   "id": "cdd4891b",
   "metadata": {},
   "outputs": [
    {
     "name": "stdout",
     "output_type": "stream",
     "text": [
      "[1, 8, 27, 64, 125, 216, 343, 512, 729, 1000]\n"
     ]
    }
   ],
   "source": [
    "# e) Find the cube root of numbers from 1 to 10.\n",
    "# Using list comprehension to find cube root of numbers from 1 to 10\n",
    "cube_root = [x ** 3 for x in range(1, 11)]\n",
    "\n",
    "# Print the list of squares\n",
    "print(cube_root)\n"
   ]
  },
  {
   "cell_type": "code",
   "execution_count": 7,
   "id": "937598bf",
   "metadata": {},
   "outputs": [
    {
     "name": "stdout",
     "output_type": "stream",
     "text": [
      "4 is even: True\n",
      "7 is even: False\n"
     ]
    }
   ],
   "source": [
    "# f) Check if a given number is even.\n",
    "# using a lambda function to check if a number is even\n",
    "is_even = lambda number: number % 2 == 0\n",
    "num1 = 4\n",
    "num2 = 7\n",
    "\n",
    "print(f\"{num1} is even:\", is_even(num1)) \n",
    "print(f\"{num2} is even:\", is_even(num2))  \n"
   ]
  },
  {
   "cell_type": "code",
   "execution_count": 8,
   "id": "6c6bb259",
   "metadata": {},
   "outputs": [
    {
     "name": "stdout",
     "output_type": "stream",
     "text": [
      "[1, 3, 5, 7, 9]\n"
     ]
    }
   ],
   "source": [
    "#g) Filter odd numbers from the given list.\n",
    "    #[1,2,3,4,5,6,7,8,9,10]\n",
    "# Given list of numbers\n",
    "nums = [1, 2, 3, 4, 5, 6, 7, 8, 9, 10]\n",
    "odd_nums = list(filter(lambda x: x % 2 != 0, nums))\n",
    "print(odd_nums)\n"
   ]
  },
  {
   "cell_type": "code",
   "execution_count": 9,
   "id": "801b96ef",
   "metadata": {},
   "outputs": [
    {
     "name": "stdout",
     "output_type": "stream",
     "text": [
      "[1, 2, 3, 4, 5, 6]\n",
      "[-1, -2, -3, -4, -5]\n"
     ]
    }
   ],
   "source": [
    "#h)Sort a list of integers into positive and negative integers lists.\n",
    "    #[1,2,3,4,5,6,-1,-2,-3,-4,-5,0]\n",
    "# Given list of integers\n",
    "nums = [1, 2, 3, 4, 5, 6, -1, -2, -3, -4, -5, 0]\n",
    "\n",
    "# Sort the list into positive and negative integers lists using list comprehension\n",
    "pst_nums = [num for num in nums if num > 0]\n",
    "ngt_nums = [num for num in nums if num < 0]\n",
    "\n",
    "# Print the sorted lists\n",
    "print(pst_nums)\n",
    "print(ngt_nums)\n"
   ]
  },
  {
   "cell_type": "code",
   "execution_count": null,
   "id": "fad8d7a5",
   "metadata": {},
   "outputs": [],
   "source": []
  }
 ],
 "metadata": {
  "kernelspec": {
   "display_name": "Python 3 (ipykernel)",
   "language": "python",
   "name": "python3"
  },
  "language_info": {
   "codemirror_mode": {
    "name": "ipython",
    "version": 3
   },
   "file_extension": ".py",
   "mimetype": "text/x-python",
   "name": "python",
   "nbconvert_exporter": "python",
   "pygments_lexer": "ipython3",
   "version": "3.9.13"
  }
 },
 "nbformat": 4,
 "nbformat_minor": 5
}
